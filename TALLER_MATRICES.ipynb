{
  "cells": [
    {
      "cell_type": "markdown",
      "metadata": {
        "id": "Hb-8iZe_K3UC"
      },
      "source": [
        "Yuly Katalina Zamora Soler\n",
        "\n",
        "Andres Felipe Sarmiento Martinez\n",
        "\n",
        "Juan Angel Leguizamon Gonzalez\n",
        "\n"
      ]
    },
    {
      "cell_type": "code",
      "execution_count": 100,
      "metadata": {
        "id": "C_Peg8AueYu-"
      },
      "outputs": [],
      "source": [
        "# Ejemplo de uso\n",
        "matriz1 = [[11, 28,  7], [17, 8, 10], [4, 6, 15]]\n",
        "matriz2 = [[9, 8, 7], [6, 5, 4], [3, 2, 1]]"
      ]
    },
    {
      "cell_type": "code",
      "execution_count": 102,
      "metadata": {
        "colab": {
          "base_uri": "https://localhost:8080/"
        },
        "id": "kUo4wkU-be8d",
        "outputId": "76275b48-c891-4874-f908-77d9885725ee"
      },
      "outputs": [
        {
          "name": "stdout",
          "output_type": "stream",
          "text": [
            "[[20, 36, 14], [23, 13, 14], [7, 8, 16]]\n"
          ]
        }
      ],
      "source": [
        "# PRIMER PUNTO: SUMA DE DOS MATRICES\n",
        "def suma_matrices(matriz1, matriz2): # creamos la funcion suma_matrices\n",
        "\n",
        "  resultado=[] # creamos una lista vacia donde van a ir el resultado final\n",
        "\n",
        "  for i in range(len(matriz1)): # creamos un ciclo el cual va desde la posicion inicial hasta la ultima posicion \"i\", usamos len para saber el numero de filas de la matriz 1\n",
        "    fila_resultado=[]  # creamos una lista vacia donde van a ir el resultado de las filas\n",
        "\n",
        "    for j in range(len(matriz1[0])): # creamos un ciclo el cual va desde la posicion inicial hasta la ultima posicion \"j\", usamos len para saber el numero de columnas de la matriz 1 y le indicamos que comience a contar desde la posicion [0]\n",
        "      suma_elemento = matriz1[i][j] + matriz2[i][j] #sumamos las matrices\n",
        "      fila_resultado.append(suma_elemento) #usamos append para agregar el resultado de  suma_elemento a fila_resultado\n",
        "    resultado.append(fila_resultado) #usamos append para agregar el resultado de fila_resultado en resultado\n",
        "\n",
        "  return resultado\n",
        "\n",
        "resultado= suma_matrices(matriz1, matriz2)\n",
        "print(resultado)"
      ]
    },
    {
      "cell_type": "code",
      "execution_count": 105,
      "metadata": {
        "colab": {
          "base_uri": "https://localhost:8080/"
        },
        "id": "tV1DQsG4fPD2",
        "outputId": "ec582b2d-e195-4748-e6b3-9d37621e3298"
      },
      "outputs": [
        {
          "name": "stdout",
          "output_type": "stream",
          "text": [
            "[[288, 242, 196], [231, 196, 161], [117, 92, 67]]\n"
          ]
        }
      ],
      "source": [
        "# SEGUNDO PUNTO: MULTIPLICACION DE MATRICES\n",
        "\n",
        "def multiplicar_matrices(matriz1, matriz2): # creamos la funcion suma_matrices\n",
        "\n",
        "    resultado = [] # creamos una lista vacia donde van a ir el resultado final\n",
        "\n",
        "    for i in range(len(matriz1)): # creamos un ciclo el cual va desde la posicion inicial hasta la ultima posicion \"i\", usamos len para saber el numero de filas de la matriz 1\n",
        "      fila_resultado=[] # creamos una lista vacia donde van a ir el resultado de las filas\n",
        "\n",
        "      for j in range(len(matriz2[0])): # creamos un ciclo el cual va desde la posicion inicial hasta la ultima posicion \"j\", usamos len para saber el numero de columnas de la matriz 2 y le indicamos que comience a contar desde la posicion [0]\n",
        "        producto=0 # creamos el contador de la suma de los productos\n",
        "\n",
        "        for k in range(len(matriz1[0])): # creamos un ciclo el cual va desde la posicion inicial hasta la ultima posicion \"k\", usamos len para saber el numero de filas de la matriz 1 y le indicamos que comience a contar desde la posicion [0]\n",
        "          producto += matriz1[i][k] * matriz2[k][j] #multiplicamos las matrices\n",
        "        fila_resultado.append(producto) #usamos append para agregar el resultado de  producto a fila_resultado\n",
        "      resultado.append(fila_resultado) #usamos append para agregar el resultado de fila_resultado en resultado\n",
        "\n",
        "    return resultado\n",
        "\n",
        "resultado= multiplicar_matrices(matriz1, matriz2)\n",
        "print(resultado)"
      ]
    },
    {
      "cell_type": "code",
      "execution_count": 55,
      "metadata": {
        "colab": {
          "base_uri": "https://localhost:8080/"
        },
        "id": "yDH6MBXYgDxn",
        "outputId": "c73029ef-ff7e-4a7f-e159-1be7230e1c47"
      },
      "outputs": [
        {
          "name": "stdout",
          "output_type": "stream",
          "text": [
            "15\n"
          ]
        }
      ],
      "source": [
        "##TERCER PUNTO: SUMAR DATOS DE UNA COLUMNA EN UNA MATRIZ##\n",
        "\n",
        "def sumar_columna(matriz, columna): # dos parametros, la matriz que queremos usar y la posicion de la columna que queremos sumar\n",
        "    suma = 0\n",
        "    for fila in matriz :\n",
        "        suma += fila[columna] #acumula los resultados\n",
        "    return suma\n",
        "\n",
        "print(sumar_columna(matriz2, 1))"
      ]
    },
    {
      "cell_type": "code",
      "execution_count": 52,
      "metadata": {
        "colab": {
          "base_uri": "https://localhost:8080/"
        },
        "id": "XoVHTV--g5CG",
        "outputId": "fc90507d-4711-4e42-9576-dbd8785af2c0"
      },
      "outputs": [
        {
          "name": "stdout",
          "output_type": "stream",
          "text": [
            "46\n"
          ]
        }
      ],
      "source": [
        "##CUARTO PUNTO: SUMAR DATOS DE UNA FILA EN UNA MATRIZ##\n",
        "\n",
        "def sumar_fila(matriz, fila): # dos parametros, la matriz que queremos usar y la posicion de la columna que queremos sumar\n",
        "    return sum(matriz[fila])\n",
        "\n",
        "print(sumar_fila(matriz1,0))\n"
      ]
    }
  ],
  "metadata": {
    "colab": {
      "provenance": []
    },
    "kernelspec": {
      "display_name": "Python 3",
      "name": "python3"
    },
    "language_info": {
      "name": "python",
      "version": "3.11.5"
    }
  },
  "nbformat": 4,
  "nbformat_minor": 0
}
